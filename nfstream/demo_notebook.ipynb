{
 "cells": [
  {
   "cell_type": "markdown",
   "metadata": {},
   "source": [
    "# NFStream: a Flexible Network Data Analysis Framework"
   ]
  },
  {
   "cell_type": "code",
   "execution_count": null,
   "metadata": {},
   "outputs": [],
   "source": [
    "import nfstream\n",
    "print(nfstream.__version__)"
   ]
  },
  {
   "cell_type": "markdown",
   "metadata": {},
   "source": [
    "[**NFStream**][repo] is a Python framework providing fast, flexible, and expressive data structures designed to make  working with **online** or **offline** network data both easy and intuitive. It aims to be the fundamental high-level  building block for doing practical, **real world** network data analysis in Python. Additionally, it has the broader goal of becoming **a common network data analytics framework for researchers** providing data reproducibility across experiments.\n",
    "\n",
    "* **Performance:** NFStream is designed to be fast: parallel processing, native C \n",
    "(using [**CFFI**][cffi]) for critical computation and [**PyPy**][pypy] support.\n",
    "* **Encrypted layer-7 visibility:** NFStream deep packet inspection is based on [**nDPI**][ndpi]. \n",
    "It allows NFStream to perform [**reliable**][reliable] encrypted applications identification and metadata \n",
    "fingerprinting (e.g. TLS, SSH, DHCP, HTTP).\n",
    "* **Statistical features extraction:** NFStream provides state of the art of flow-based statistical feature extraction. \n",
    "It includes both post-mortem statistical features (e.g. min, mean, stddev and max of packet size and inter arrival time) \n",
    "and early flow features (e.g. sequence of first n packets sizes, inter arrival times and\n",
    "directions).\n",
    "* **Flexibility:** NFStream is easily extensible using [**NFPlugins**][nfplugin]. It allows to create a new \n",
    "feature within a few lines of Python.\n",
    "* **Machine Learning oriented:** NFStream aims to make Machine Learning Approaches for network traffic management \n",
    "reproducible and deployable. By using NFStream as a common framework, researchers ensure that models are trained using \n",
    "the same feature computation logic and thus, a fair comparison is possible. Moreover, trained models can be deployed \n",
    "and evaluated on live network using [**NFPlugins**][nfplugin]. \n",
    "\n",
    "In this notebook, we demonstrate a subset of features provided by [**nfstream**][repo].\n",
    "\n",
    "[ndpi]: https://github.com/ntop/nDPI\n",
    "[nfplugin]: https://nfstream.github.io/docs/api#nfplugin\n",
    "[reliable]: http://people.ac.upc.edu/pbarlet/papers/ground-truth.pam2014.pdf\n",
    "[repo]: https://nfstream.org/\n",
    "[pypy]: https://www.pypy.org/\n",
    "[cffi]: https://cffi.readthedocs.io/en/latest/index.html"
   ]
  },
  {
   "cell_type": "code",
   "execution_count": null,
   "metadata": {},
   "outputs": [],
   "source": [
    "from nfstream import NFStreamer, NFPlugin\n",
    "import pandas as pd\n",
    "pd.set_option('display.max_columns', 500)\n",
    "pd.set_option('display.max_rows', 500)"
   ]
  },
  {
   "cell_type": "markdown",
   "metadata": {},
   "source": [
    "## Flow aggregation made simple"
   ]
  },
  {
   "cell_type": "markdown",
   "metadata": {},
   "source": [
    "In the following, we are going to use the main object provided by nfstream, `NFStreamer` which have the following parameters:\n",
    "\n",
    "* `source` [default=None]: Packet capture source. Pcap file path or network interface name.\n",
    "* `decode_tunnels` [default=True]: Enable/Disable GTP/TZSP tunnels decoding.\n",
    "* `bpf_filter` [default=None]: Specify a [BPF filter][bpf] filter for filtering selected traffic.\n",
    "* `promiscuous_mode` [default=True]: Enable/Disable promiscuous capture mode.\n",
    "* `snapshot_length` [default=1500]: Control packet slicing size (truncation) in bytes.\n",
    "* `idle_timeout` [default=15]: Flows that are idle (no packets received) for more than this value in seconds are expired.\n",
    "* `active_timeout` [default=1800]: Flows that are active for more than this value in seconds are expired.\n",
    "* `accounting_mode` [default=0] : Specify the accounting mode that will be used to report bytes related features (0: Link layer, 1: IP layer, 2: Transport layer, 3: Payload).\n",
    "* `udps` [default=None]: Specify user defined NFPlugins used to extend NFStreamer.\n",
    "* `n_dissections` | [default=20]: Number of per flow packets to dissect for L7 visibility feature. When set to 0, L7 visibility feature is disabled.\n",
    "* `statistical_analysis` [default=False]: Enable/Disable post-mortem flow statistical analysis.\n",
    "* `splt_analysis` [default=0]: Specify the sequence of first packets length for early statistical analysis. When set to 0, splt_analysis is disabled.\n",
    "* `n_meters` [default=0]: Specify the number of parallel metering processes. When set to 0, NFStreamer will automatically scale metering according to available physical cores on the running host.\n",
    "* `performance_report` [default=0]: [**Performance report**](https://github.com/nfstream/nfstream/blob/master/assets/PERFORMANCE_REPORT.md) interval in seconds. Disabled whhen set to 0. Ignored for offline capture.\n",
    "\n",
    "`NFStreamer` returns a flow iterator. We can iterate over flows or convert it directly to pandas Dataframe using `to_pandas()` method.\n",
    "\n",
    "[bpf]: https://biot.com/capstats/bpf.html"
   ]
  },
  {
   "cell_type": "code",
   "execution_count": null,
   "metadata": {},
   "outputs": [],
   "source": [
    "df = NFStreamer(source=\"tests/pcap/instagram.pcap\").to_pandas()"
   ]
  },
  {
   "cell_type": "code",
   "execution_count": null,
   "metadata": {},
   "outputs": [],
   "source": [
    "df.head()"
   ]
  },
  {
   "cell_type": "markdown",
   "metadata": {},
   "source": [
    "We can enable post-mortem statistical flow features extraction as follow:"
   ]
  },
  {
   "cell_type": "code",
   "execution_count": null,
   "metadata": {},
   "outputs": [],
   "source": [
    "df = NFStreamer(source=\"tests/pcap/instagram.pcap\", statistical_analysis=True).to_pandas()"
   ]
  },
  {
   "cell_type": "code",
   "execution_count": null,
   "metadata": {},
   "outputs": [],
   "source": [
    "df.head()"
   ]
  },
  {
   "cell_type": "markdown",
   "metadata": {},
   "source": [
    "We can enable early statistical flow features extraction as follow:"
   ]
  },
  {
   "cell_type": "code",
   "execution_count": null,
   "metadata": {},
   "outputs": [],
   "source": [
    "df = NFStreamer(source=\"tests/pcap/instagram.pcap\", splt_analysis=10).to_pandas()"
   ]
  },
  {
   "cell_type": "code",
   "execution_count": null,
   "metadata": {},
   "outputs": [],
   "source": [
    "df.head()"
   ]
  },
  {
   "cell_type": "markdown",
   "metadata": {},
   "source": [
    "We can enable IP anonymization as follow:"
   ]
  },
  {
   "cell_type": "code",
   "execution_count": null,
   "metadata": {},
   "outputs": [],
   "source": [
    "df = NFStreamer(source=\"tests/pcap/instagram.pcap\", \n",
    "                statistical_analysis=True).to_pandas(columns_to_anonymize=[\"src_ip\", \"src_mac\", \"dst_ip\", \"dst_mac\"])"
   ]
  },
  {
   "cell_type": "code",
   "execution_count": null,
   "metadata": {},
   "outputs": [],
   "source": [
    "df.head()"
   ]
  },
  {
   "cell_type": "markdown",
   "metadata": {},
   "source": [
    "Now that we have our Dataframe, we can start analyzing our data as any data. For example we can compute additional features:\n",
    "\n",
    "* Compute data ratio on both direction (src2dst and dst2src)"
   ]
  },
  {
   "cell_type": "code",
   "execution_count": null,
   "metadata": {},
   "outputs": [],
   "source": [
    "df[\"src2dst_bytes_data_ratio\"] = df['src2dst_bytes'] / df['bidirectional_bytes']\n",
    "df[\"dst2src_bytes_data_ratio\"] = df['dst2src_bytes'] / df['bidirectional_bytes']"
   ]
  },
  {
   "cell_type": "code",
   "execution_count": null,
   "metadata": {},
   "outputs": [],
   "source": [
    "df.head()"
   ]
  },
  {
   "cell_type": "markdown",
   "metadata": {},
   "source": [
    "* Filter data according to some criterias:"
   ]
  },
  {
   "cell_type": "code",
   "execution_count": null,
   "metadata": {},
   "outputs": [],
   "source": [
    "df[df[\"dst_port\"] == 443].head()"
   ]
  },
  {
   "cell_type": "markdown",
   "metadata": {},
   "source": [
    "## Extend nfstream"
   ]
  },
  {
   "cell_type": "markdown",
   "metadata": {},
   "source": [
    "In some use cases, we need to add features that are computed as packet level. Thus, nfstream handles such scenario using [**NFPlugin**][nfplugin].\n",
    "\n",
    "[nfplugin]: https://nfstream.github.io/docs/api#nfplugin\n",
    "\n",
    "* Let's suppose that we want bidirectional packets with exact IP size equal to 40 counter per flow."
   ]
  },
  {
   "cell_type": "code",
   "execution_count": null,
   "metadata": {},
   "outputs": [],
   "source": [
    "class Packet40Count(NFPlugin):\n",
    "    def on_init(self, pkt, flow): # flow creation with the first packet\n",
    "        if pkt.ip_size == 40:\n",
    "            flow.udps.packet_with_40_ip_size=1\n",
    "        else:\n",
    "            flow.udps.packet_with_40_ip_size=0\n",
    "        \n",
    "    def on_update(self, pkt, flow): # flow update with each packet belonging to the flow\n",
    "        if pkt.ip_size == 40:\n",
    "            flow.udps.packet_with_40_ip_size += 1"
   ]
  },
  {
   "cell_type": "code",
   "execution_count": null,
   "metadata": {},
   "outputs": [],
   "source": [
    "df = NFStreamer(source=\"tests/pcap/google_ssl.pcap\", udps=[Packet40Count()]).to_pandas()"
   ]
  },
  {
   "cell_type": "code",
   "execution_count": null,
   "metadata": {},
   "outputs": [],
   "source": [
    "df.head()"
   ]
  },
  {
   "cell_type": "markdown",
   "metadata": {},
   "source": [
    "Our Dataframe have a new column named `udps.packet_with_40_ip_size`."
   ]
  }
 ],
 "metadata": {
  "kernelspec": {
   "display_name": "Python 3",
   "language": "python",
   "name": "python3"
  },
  "language_info": {
   "codemirror_mode": {
    "name": "ipython",
    "version": 3
   },
   "file_extension": ".py",
   "mimetype": "text/x-python",
   "name": "python",
   "nbconvert_exporter": "python",
   "pygments_lexer": "ipython3",
   "version": "3.8.5"
  }
 },
 "nbformat": 4,
 "nbformat_minor": 4
}
